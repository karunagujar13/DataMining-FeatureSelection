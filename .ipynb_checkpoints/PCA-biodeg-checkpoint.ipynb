{
 "cells": [
  {
   "cell_type": "code",
   "execution_count": 12,
   "metadata": {},
   "outputs": [],
   "source": [
    "import numpy as np\n",
    "import matplotlib.pyplot as plt\n",
    "import pandas as pd\n",
    "from sklearn.decomposition import PCA\n",
    "from sklearn.metrics import confusion_matrix, accuracy_score\n",
    "from sklearn.linear_model import LogisticRegression\n",
    "from sklearn.model_selection import train_test_split\n",
    "from sklearn.preprocessing import StandardScaler\n",
    "from tempfile import TemporaryFile\n"
   ]
  },
  {
   "cell_type": "markdown",
   "metadata": {},
   "source": [
    "#### Read the data "
   ]
  },
  {
   "cell_type": "code",
   "execution_count": 13,
   "metadata": {},
   "outputs": [],
   "source": [
    "\n",
    "dataset = pd.read_csv('biodeg.csv', delimiter=';')\n",
    "X = dataset.iloc[:, :-1].values\n",
    "y = dataset.iloc[:, -1].values"
   ]
  },
  {
   "cell_type": "markdown",
   "metadata": {},
   "source": [
    "#### Split the data into train and test, normalize it and save in the ofrm of pickle"
   ]
  },
  {
   "cell_type": "code",
   "execution_count": 14,
   "metadata": {},
   "outputs": [],
   "source": [
    "X_train, X_test, y_train, y_test = train_test_split(X, y, test_size = 0.2, random_state = 89)\n"
   ]
  },
  {
   "cell_type": "code",
   "execution_count": 15,
   "metadata": {},
   "outputs": [],
   "source": [
    "sc = StandardScaler()\n",
    "X_train = sc.fit_transform(X_train)\n",
    "X_test = sc.transform(X_test)"
   ]
  },
  {
   "cell_type": "code",
   "execution_count": 16,
   "metadata": {},
   "outputs": [],
   "source": [
    "X_train_out = 'X_train_out'\n",
    "X_test_out = 'X_test_out'\n",
    "y_train_out = 'y_train_out'\n",
    "y_test_out = 'y_test_out'\n",
    "ext = '.npy'"
   ]
  },
  {
   "cell_type": "code",
   "execution_count": 17,
   "metadata": {},
   "outputs": [],
   "source": [
    "np.save(X_train_out, X_train)\n",
    "\n",
    "np.save(X_test_out, X_test)\n",
    "\n",
    "np.save(y_train_out, y_train)\n",
    "\n",
    "np.save(y_test_out, y_test)"
   ]
  },
  {
   "cell_type": "markdown",
   "metadata": {},
   "source": [
    "#### Classification with original data"
   ]
  },
  {
   "cell_type": "code",
   "execution_count": 18,
   "metadata": {},
   "outputs": [
    {
     "name": "stdout",
     "output_type": "stream",
     "text": [
      "Accuracy obtained with original data:- 0.8672985781990521\n"
     ]
    }
   ],
   "source": [
    "classifier = LogisticRegression(random_state = 0)\n",
    "classifier.fit(X_train, y_train)\n",
    "    \n",
    "y_pred = classifier.predict(X_test)\n",
    "acc = accuracy_score(y_test, y_pred)\n",
    "\n",
    "print(\"Accuracy obtained with original data:-\",acc)"
   ]
  },
  {
   "cell_type": "markdown",
   "metadata": {},
   "source": [
    "#### Maximum number of principal components possible "
   ]
  },
  {
   "cell_type": "code",
   "execution_count": 19,
   "metadata": {},
   "outputs": [
    {
     "data": {
      "text/plain": [
       "40"
      ]
     },
     "execution_count": 19,
     "metadata": {},
     "output_type": "execute_result"
    }
   ],
   "source": [
    "n_features = X[0].shape[0]\n",
    "n_samples = len(y)\n",
    "MAX_NUM_PC = min(n_samples, n_features) - 1\n",
    "MAX_NUM_PC"
   ]
  },
  {
   "cell_type": "markdown",
   "metadata": {},
   "source": [
    "#### Training for range of number of principle components "
   ]
  },
  {
   "cell_type": "markdown",
   "metadata": {},
   "source": [
    "For number of principal components ranging from 0 to maximum possible (40 in this case) following steps are performed:\n",
    "1. Reading data from the saved pickles.\n",
    "2. Applying PCA\n",
    "3. Training the Logistic Regression model on the Training set.\n",
    "4. Computing and storing accuracy obtained on test set."
   ]
  },
  {
   "cell_type": "code",
   "execution_count": 20,
   "metadata": {},
   "outputs": [],
   "source": [
    "accuracy = []\n",
    "for i in range(1,MAX_NUM_PC+1):\n",
    "\n",
    "    X_train = np.load(X_train_out+ext, allow_pickle=True)\n",
    "    X_test = np.load(X_test_out+ext, allow_pickle=True)\n",
    "    y_train = np.load(y_train_out+ext, allow_pickle=True)\n",
    "    y_test = np.load(y_test_out+ext, allow_pickle=True)\n",
    "    \n",
    "    pca = PCA(n_components = i)\n",
    "    X_train = pca.fit_transform(X_train)\n",
    "    X_test = pca.transform(X_test)\n",
    "    \n",
    "    classifier = LogisticRegression(random_state = 0)\n",
    "    classifier.fit(X_train, y_train)\n",
    "    \n",
    "    y_pred = classifier.predict(X_test)\n",
    "\n",
    "    acc = accuracy_score(y_test, y_pred)\n",
    "    accuracy.append(acc)"
   ]
  },
  {
   "cell_type": "markdown",
   "metadata": {},
   "source": [
    "#### Classification accuracy vs. number of principle components plot "
   ]
  },
  {
   "cell_type": "code",
   "execution_count": 21,
   "metadata": {},
   "outputs": [],
   "source": [
    "def plot_acc(acc,i):\n",
    "    plt.figure(figsize=(15,8))\n",
    "    plt.plot(i,acc,color='blue', linestyle='dashed', \n",
    "             marker='o',markerfacecolor='red', markersize=10)\n",
    "    plt.title('Accuracy vs. Number of principle components')\n",
    "    plt.xlabel('Number of Principle components')\n",
    "    plt.ylabel('Accuracy')\n",
    "    print(\"Maximum accuracy:-\",max(acc),\" with number of principle components =\",i[acc.index(max(acc))])"
   ]
  },
  {
   "cell_type": "code",
   "execution_count": 22,
   "metadata": {},
   "outputs": [
    {
     "name": "stdout",
     "output_type": "stream",
     "text": [
      "Maximum accuracy:- 0.8720379146919431  with number of principle components = 27\n"
     ]
    },
    {
     "data": {
      "image/png": "[encoded data removed]",
      "text/plain": [
       "<Figure size 1080x576 with 1 Axes>"
      ]
     },
     "metadata": {
      "needs_background": "light"
     },
     "output_type": "display_data"
    }
   ],
   "source": [
    "plot_acc(accuracy, list(range(1, MAX_NUM_PC+1)))\n",
    "\n"
   ]
  },
  {
   "attachments": {},
   "cell_type": "markdown",
   "metadata": {},
   "source": [
    "Highest accuracy of 87.20% is obtained for this dataset with 27 principle components. The original data, without PCA, gave accuracy of 86.72%. So, the accuracy seems to improve little bit with PCA. \n",
    "\n",
    "These numbers are specific to the current train-test split. When I was working on this and ran the program several times to see how the accuracy changed for different splits, I observed that sometimes the accuracy with PCA was close to the original data or even slightly less than the original data. So, it is probably not completely safe to say that PCA guarantees better accuracy. However, for huge datasets having large number of attributes, the performance will improve in terms of computational overhead, computational time and resources required."
   ]
  },
  {
   "cell_type": "code",
   "execution_count": null,
   "metadata": {},
   "outputs": [],
   "source": []
  }
 ],
 "metadata": {
  "kernelspec": {
   "display_name": "Python (py37)",
   "language": "python",
   "name": "myenv"
  },
  "language_info": {
   "codemirror_mode": {
    "name": "ipython",
    "version": 3
   },
   "file_extension": ".py",
   "mimetype": "text/x-python",
   "name": "python",
   "nbconvert_exporter": "python",
   "pygments_lexer": "ipython3",
   "version": "3.8.1"
  }
 },
 "nbformat": 4,
 "nbformat_minor": 4
}
