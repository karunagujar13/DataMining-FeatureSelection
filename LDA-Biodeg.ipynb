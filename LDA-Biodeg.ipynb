{
 "cells": [
  {
   "cell_type": "code",
   "execution_count": 21,
   "metadata": {},
   "outputs": [],
   "source": [
    "import numpy as np\n",
    "import matplotlib.pyplot as plt\n",
    "import pandas as pd\n",
    "from sklearn.metrics import confusion_matrix, accuracy_score\n",
    "from sklearn.linear_model import LogisticRegression\n",
    "from sklearn.model_selection import train_test_split\n",
    "from sklearn.preprocessing import StandardScaler\n",
    "from tempfile import TemporaryFile\n",
    "from sklearn.discriminant_analysis import LinearDiscriminantAnalysis as LDA\n"
   ]
  },
  {
   "cell_type": "markdown",
   "metadata": {},
   "source": [
    "#### Read the data "
   ]
  },
  {
   "cell_type": "code",
   "execution_count": 22,
   "metadata": {},
   "outputs": [],
   "source": [
    "\n",
    "dataset = pd.read_csv('biodeg.csv', delimiter=';')\n",
    "X = dataset.iloc[:, :-1].values\n",
    "y = dataset.iloc[:, -1].values"
   ]
  },
  {
   "cell_type": "markdown",
   "metadata": {},
   "source": [
    "#### Split the data into train and test, normalize it and save in the ofrm of pickle"
   ]
  },
  {
   "cell_type": "code",
   "execution_count": 23,
   "metadata": {},
   "outputs": [],
   "source": [
    "X_train, X_test, y_train, y_test = train_test_split(X, y, test_size = 0.2, random_state = 324)\n"
   ]
  },
  {
   "cell_type": "code",
   "execution_count": 24,
   "metadata": {},
   "outputs": [],
   "source": [
    "sc = StandardScaler()\n",
    "X_train = sc.fit_transform(X_train)\n",
    "X_test = sc.transform(X_test)"
   ]
  },
  {
   "cell_type": "code",
   "execution_count": 25,
   "metadata": {},
   "outputs": [],
   "source": [
    "X_train_out = 'X_train_out'\n",
    "X_test_out = 'X_test_out'\n",
    "y_train_out = 'y_train_out'\n",
    "y_test_out = 'y_test_out'\n",
    "ext = '.npy'"
   ]
  },
  {
   "cell_type": "code",
   "execution_count": 26,
   "metadata": {},
   "outputs": [],
   "source": [
    "np.save(X_train_out, X_train)\n",
    "\n",
    "np.save(X_test_out, X_test)\n",
    "\n",
    "np.save(y_train_out, y_train)\n",
    "\n",
    "np.save(y_test_out, y_test)"
   ]
  },
  {
   "cell_type": "markdown",
   "metadata": {},
   "source": [
    "#### Classification with original data"
   ]
  },
  {
   "cell_type": "code",
   "execution_count": 27,
   "metadata": {},
   "outputs": [
    {
     "name": "stdout",
     "output_type": "stream",
     "text": [
      "Accuracy obtained with original data:- 0.8672985781990521\n"
     ]
    }
   ],
   "source": [
    "classifier = LogisticRegression(random_state = 0)\n",
    "classifier.fit(X_train, y_train)\n",
    "    \n",
    "y_pred = classifier.predict(X_test)\n",
    "acc = accuracy_score(y_test, y_pred)\n",
    "\n",
    "print(\"Accuracy obtained with original data:-\",acc)"
   ]
  },
  {
   "cell_type": "markdown",
   "metadata": {},
   "source": [
    "#### Maximum number of Linear Discriminators possible "
   ]
  },
  {
   "cell_type": "code",
   "execution_count": 28,
   "metadata": {},
   "outputs": [
    {
     "data": {
      "text/plain": [
       "1"
      ]
     },
     "execution_count": 28,
     "metadata": {},
     "output_type": "execute_result"
    }
   ],
   "source": [
    "n_features = X[0].shape[0]\n",
    "n_classes = len(set(y))\n",
    "MAX_NUM_PC = min(n_features, n_classes - 1)\n",
    "MAX_NUM_PC"
   ]
  },
  {
   "cell_type": "markdown",
   "metadata": {},
   "source": [
    "#### Training for range of number of linear discriminators"
   ]
  },
  {
   "cell_type": "markdown",
   "metadata": {},
   "source": [
    "For number of linear discriminators ranging from 0 to maximum possible (1 in this case) following steps are performed:\n",
    "1. Reading data from the saved pickles.\n",
    "2. Applying LDA\n",
    "3. Training the Logistic Regression model on the Training set.\n",
    "4. Computing and storing accuracy obtained on test set."
   ]
  },
  {
   "cell_type": "code",
   "execution_count": 29,
   "metadata": {},
   "outputs": [
    {
     "name": "stdout",
     "output_type": "stream",
     "text": [
      "1\n"
     ]
    }
   ],
   "source": [
    "accuracy = []\n",
    "for i in range(1,MAX_NUM_PC+1):\n",
    "    print(i)\n",
    "    X_train = np.load(X_train_out+ext, allow_pickle=True)\n",
    "    X_test = np.load(X_test_out+ext, allow_pickle=True)\n",
    "    y_train = np.load(y_train_out+ext, allow_pickle=True)\n",
    "    y_test = np.load(y_test_out+ext, allow_pickle=True) \n",
    "    \n",
    "    lda = LDA(n_components = i)\n",
    "    X_train = lda.fit_transform(X_train, y_train)\n",
    "    X_test = lda.transform(X_test)\n",
    "    \n",
    "    classifier = LogisticRegression(random_state = 0)\n",
    "    classifier.fit(X_train, y_train)\n",
    "    \n",
    "    y_pred = classifier.predict(X_test)\n",
    "\n",
    "    acc = accuracy_score(y_test, y_pred)\n",
    "    accuracy.append(acc)"
   ]
  },
  {
   "cell_type": "markdown",
   "metadata": {},
   "source": [
    "#### Classification accuracy vs. number of principle components plot "
   ]
  },
  {
   "cell_type": "code",
   "execution_count": 31,
   "metadata": {},
   "outputs": [],
   "source": [
    "def plot_acc(acc,i):\n",
    "    plt.figure(figsize=(15,8))\n",
    "    plt.plot(i,acc,color='blue', linestyle='dashed', \n",
    "             marker='o',markerfacecolor='red', markersize=10)\n",
    "    plt.title('Accuracy vs. Number of linear discriminators')\n",
    "    plt.xlabel('Number of linear discriminators')\n",
    "    plt.ylabel('Accuracy')\n",
    "    print(\"Maximum accuracy:-\",max(acc),\" with number of linear discriminators =\",i[acc.index(max(acc))])"
   ]
  },
  {
   "cell_type": "code",
   "execution_count": 32,
   "metadata": {},
   "outputs": [
    {
     "name": "stdout",
     "output_type": "stream",
     "text": [
      "Maximum accuracy:- 0.8151658767772512  with number of linear discriminators = 1\n"
     ]
    },
    {
     "data": {
      "image/png": "[encoded data removed]",
      "text/plain": [
       "<Figure size 1080x576 with 1 Axes>"
      ]
     },
     "metadata": {
      "needs_background": "light"
     },
     "output_type": "display_data"
    }
   ],
   "source": [
    "plot_acc(accuracy, list(range(1, MAX_NUM_PC+1)))\n",
    "\n"
   ]
  },
  {
   "cell_type": "code",
   "execution_count": null,
   "metadata": {},
   "outputs": [],
   "source": []
  }
 ],
 "metadata": {
  "kernelspec": {
   "display_name": "Python (py37)",
   "language": "python",
   "name": "myenv"
  },
  "language_info": {
   "codemirror_mode": {
    "name": "ipython",
    "version": 3
   },
   "file_extension": ".py",
   "mimetype": "text/x-python",
   "name": "python",
   "nbconvert_exporter": "python",
   "pygments_lexer": "ipython3",
   "version": "3.8.1"
  }
 },
 "nbformat": 4,
 "nbformat_minor": 4
}
