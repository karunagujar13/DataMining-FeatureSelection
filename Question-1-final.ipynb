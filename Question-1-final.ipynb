{
 "cells": [
  {
   "cell_type": "code",
   "execution_count": null,
   "metadata": {},
   "outputs": [],
   "source": [
    "import pandas as pd\n",
    "import statistics \n",
    "import math\n",
    "from scipy import stats"
   ]
  },
  {
   "cell_type": "code",
   "execution_count": null,
   "metadata": {},
   "outputs": [],
   "source": [
    "df_iris=pd.read_csv(r'./iris.data')\n",
    "df_iris.columns =['sepal_len', 'sepal_width', 'petal_len', 'petal_width','label'] "
   ]
  },
  {
   "cell_type": "code",
   "execution_count": null,
   "metadata": {},
   "outputs": [],
   "source": [
    "df_iris"
   ]
  },
  {
   "cell_type": "code",
   "execution_count": null,
   "metadata": {},
   "outputs": [],
   "source": [
    "df_setosa = df_iris[df_iris[\"label\"]==\"Iris-setosa\"]\n",
    "\n",
    "df_setosa"
   ]
  },
  {
   "cell_type": "code",
   "execution_count": null,
   "metadata": {},
   "outputs": [],
   "source": [
    "df_versicolor = df_iris[df_iris[\"label\"]==\"Iris-versicolor\"]\n",
    "\n",
    "df_versicolor"
   ]
  },
  {
   "cell_type": "code",
   "execution_count": null,
   "metadata": {},
   "outputs": [],
   "source": [
    "df_virginica = df_iris[df_iris[\"label\"]==\"Iris-virginica\"]\n",
    "\n",
    "df_virginica"
   ]
  },
  {
   "cell_type": "code",
   "execution_count": null,
   "metadata": {},
   "outputs": [],
   "source": [
    "m_setosa_s_len, m_setosa_s_width, m_setosa_p_len, m_setosa_p_width = df_setosa.mean()\n",
    "sd_setosa_s_len, sd_setosa_s_width, sd_setosa_p_len, sd_setosa_p_width = df_setosa.std()\n",
    "\n",
    "m_versi_s_len, m_versi_s_width, m_versi_p_len, m_versi_p_width = df_versicolor.mean()\n",
    "sd_versi_s_len, sd_versi_s_width, sd_versi_p_len, sd_versi_p_width = df_versicolor.std()\n",
    "\n",
    "m_vg_s_len, m_vg_s_width, m_vg_p_len, m_vg_p_width = df_virginica.mean()\n",
    "sd_vg_s_len, sd_vg_s_width, sd_vg_p_len, sd_vg_p_width = df_virginica.std()\n"
   ]
  },
  {
   "cell_type": "code",
   "execution_count": null,
   "metadata": {},
   "outputs": [],
   "source": [
    "m_setosa_s_len, m_setosa_s_width, m_setosa_p_len, m_setosa_p_width"
   ]
  },
  {
   "cell_type": "markdown",
   "metadata": {},
   "source": [
    "### a. Signal-to-noise ratio "
   ]
  },
  {
   "cell_type": "code",
   "execution_count": null,
   "metadata": {},
   "outputs": [],
   "source": [
    "def calculate_SNR(m_a, m_b, m_c, sd_a, sd_b, sd_c):\n",
    "    return ((abs(m_a - m_b - m_c)) / (sd_a + sd_b + sd_c))"
   ]
  },
  {
   "cell_type": "code",
   "execution_count": null,
   "metadata": {},
   "outputs": [],
   "source": [
    "SNR_s_len = calculate_SNR(m_setosa_s_len, m_versi_s_len, m_vg_s_len, sd_setosa_s_len, sd_versi_s_len\n",
    "                           , sd_vg_s_len)\n",
    "SNR_s_len"
   ]
  },
  {
   "cell_type": "code",
   "execution_count": null,
   "metadata": {},
   "outputs": [],
   "source": [
    "SNR_s_width = calculate_SNR(m_setosa_s_width, m_versi_s_width, m_vg_s_width, sd_setosa_s_width, sd_versi_s_width, sd_vg_s_width)\n",
    "SNR_s_width"
   ]
  },
  {
   "cell_type": "code",
   "execution_count": null,
   "metadata": {},
   "outputs": [],
   "source": [
    "SNR_p_len = calculate_SNR(m_setosa_p_len, m_versi_p_len, m_vg_p_len, sd_setosa_p_len, sd_versi_p_len, sd_vg_p_len)\n",
    "SNR_p_len"
   ]
  },
  {
   "cell_type": "code",
   "execution_count": null,
   "metadata": {},
   "outputs": [],
   "source": [
    "SNR_p_width = calculate_SNR(m_setosa_p_width, m_versi_p_width, m_vg_p_width, sd_setosa_p_width, sd_versi_p_width, \n",
    "                            sd_vg_p_width)\n",
    "SNR_p_width"
   ]
  },
  {
   "cell_type": "markdown",
   "metadata": {},
   "source": [
    "Since signal-to-ratio of \"petal length\" attribute is larger, \"Petal length\" is a good feature for classification. \"Petal width\" has the second largest signal-to-noise ratio. Thus petal length and width are the two best features for classification.   "
   ]
  },
  {
   "cell_type": "markdown",
   "metadata": {},
   "source": [
    "### Two tailed t-test"
   ]
  },
  {
   "cell_type": "code",
   "execution_count": null,
   "metadata": {},
   "outputs": [],
   "source": [
    "degree_of_freedom = len(df_setosa) + len(df_versicolor) + len(df_virginica) - 2\n",
    "degree_of_freedom"
   ]
  },
  {
   "cell_type": "markdown",
   "metadata": {},
   "source": [
    "From t-table two tailed, for p=0.05 and degree_of_freedom = 120; t_threshold = 1.980"
   ]
  },
  {
   "cell_type": "markdown",
   "metadata": {},
   "source": [
    "#### Setosa - Virginica "
   ]
  },
  {
   "cell_type": "code",
   "execution_count": null,
   "metadata": {},
   "outputs": [],
   "source": [
    "t2, p2 = stats.ttest_ind(df_setosa['sepal_len'],df_virginica['sepal_len'],equal_var=False)\n",
    "print(\"t = \" + str(t2))\n",
    "print(\"p = \" + str(p2))"
   ]
  },
  {
   "cell_type": "code",
   "execution_count": null,
   "metadata": {},
   "outputs": [],
   "source": [
    "t2, p2 = stats.ttest_ind(df_setosa['sepal_width'],df_virginica['sepal_width'],equal_var=False)\n",
    "print(\"t = \" + str(t2))\n",
    "print(\"p = \" + str(p2))"
   ]
  },
  {
   "cell_type": "code",
   "execution_count": null,
   "metadata": {},
   "outputs": [],
   "source": [
    "t2, p2 = stats.ttest_ind(df_setosa['petal_len'],df_virginica['petal_len'],equal_var=False)\n",
    "print(\"t = \" + str(t2))\n",
    "print(\"p = \" + str(p2))"
   ]
  },
  {
   "cell_type": "code",
   "execution_count": null,
   "metadata": {},
   "outputs": [],
   "source": [
    "t2, p2 = stats.ttest_ind(df_setosa['petal_width'],df_virginica['petal_width'],equal_var=False)\n",
    "print(\"t = \" + str(t2))\n",
    "print(\"p = \" + str(p2))"
   ]
  },
  {
   "cell_type": "markdown",
   "metadata": {},
   "source": [
    "#### Setosa - Versicolor "
   ]
  },
  {
   "cell_type": "code",
   "execution_count": null,
   "metadata": {},
   "outputs": [],
   "source": [
    "t2, p2 = stats.ttest_ind(df_setosa['sepal_len'],df_versicolor['sepal_len'],equal_var=False)\n",
    "print(\"t = \" + str(t2))\n",
    "print(\"p = \" + str(p2))"
   ]
  },
  {
   "cell_type": "code",
   "execution_count": null,
   "metadata": {},
   "outputs": [],
   "source": [
    "t2, p2 = stats.ttest_ind(df_setosa['sepal_width'],df_versicolor['sepal_width'],equal_var=False)\n",
    "print(\"t = \" + str(t2))\n",
    "print(\"p = \" + str(p2))"
   ]
  },
  {
   "cell_type": "code",
   "execution_count": null,
   "metadata": {},
   "outputs": [],
   "source": [
    "t2, p2 = stats.ttest_ind(df_setosa['petal_len'],df_versicolor['petal_len'],equal_var=False)\n",
    "print(\"t = \" + str(t2))\n",
    "print(\"p = \" + str(p2))"
   ]
  },
  {
   "cell_type": "code",
   "execution_count": null,
   "metadata": {},
   "outputs": [],
   "source": [
    "t2, p2 = stats.ttest_ind(df_setosa['petal_width'],df_versicolor['petal_width'],equal_var=False)\n",
    "print(\"t = \" + str(t2))\n",
    "print(\"p = \" + str(p2))"
   ]
  },
  {
   "cell_type": "markdown",
   "metadata": {},
   "source": [
    "#### Virginica - Versicolor"
   ]
  },
  {
   "cell_type": "code",
   "execution_count": null,
   "metadata": {},
   "outputs": [],
   "source": [
    "t2, p2 = stats.ttest_ind(df_virginica['sepal_len'],df_versicolor['sepal_len'],equal_var=False)\n",
    "print(\"t = \" + str(t2))\n",
    "print(\"p = \" + str(p2))"
   ]
  },
  {
   "cell_type": "code",
   "execution_count": null,
   "metadata": {},
   "outputs": [],
   "source": [
    "t2, p2 = stats.ttest_ind(df_virginica['sepal_width'],df_versicolor['sepal_width'],equal_var=False)\n",
    "print(\"t = \" + str(t2))\n",
    "print(\"p = \" + str(p2))"
   ]
  },
  {
   "cell_type": "code",
   "execution_count": null,
   "metadata": {},
   "outputs": [],
   "source": [
    "t2, p2 = stats.ttest_ind(df_virginica['petal_len'],df_versicolor['petal_len'],equal_var=False)\n",
    "print(\"t = \" + str(t2))\n",
    "print(\"p = \" + str(p2))"
   ]
  },
  {
   "cell_type": "code",
   "execution_count": null,
   "metadata": {},
   "outputs": [],
   "source": [
    "t2, p2 = stats.ttest_ind(df_virginica['petal_width'],df_versicolor['petal_width'],equal_var=False)\n",
    "print(\"t = \" + str(t2))\n",
    "print(\"p = \" + str(p2))"
   ]
  },
  {
   "cell_type": "markdown",
   "metadata": {},
   "source": [
    "### Relief"
   ]
  },
  {
   "cell_type": "code",
   "execution_count": null,
   "metadata": {},
   "outputs": [],
   "source": [
    "def calculate_distance(obj1, obj2):\n",
    "    print('calculate_distance')\n",
    "    sum = 0\n",
    "    for i in range(0, 4):\n",
    "        sum = sum + pow((obj1[i]*obj2[i]), 2)\n",
    "    return math.sqrt(sum)\n",
    "\n",
    "\n",
    "def update_distance(obj1,df_iris):\n",
    "    print('update_distance')\n",
    "    distance= []\n",
    "    for i, row in df_iris.iterrows():\n",
    "        print(row)\n",
    "        r = row.values.tolist()\n",
    "        obj2 = r[:4]\n",
    "        dist = calculate_distance(obj1,obj2)\n",
    "        print(dist)\n",
    "        distance.append(distance)\n",
    "    df_iris['distance'] = distance\n",
    "    return df_iris"
   ]
  },
  {
   "cell_type": "code",
   "execution_count": null,
   "metadata": {},
   "outputs": [],
   "source": [
    "obj1 = [4.3,3.0,1.1,0.1,]\n",
    "df_iris_dist = update_distance(obj1,df_iris)\n",
    "df_iris_dist"
   ]
  },
  {
   "cell_type": "code",
   "execution_count": null,
   "metadata": {},
   "outputs": [],
   "source": []
  }
 ],
 "metadata": {
  "kernelspec": {
   "display_name": "Python (py37)",
   "language": "python",
   "name": "myenv"
  },
  "language_info": {
   "codemirror_mode": {
    "name": "ipython",
    "version": 3
   },
   "file_extension": ".py",
   "mimetype": "text/x-python",
   "name": "python",
   "nbconvert_exporter": "python",
   "pygments_lexer": "ipython3",
   "version": "3.8.1"
  }
 },
 "nbformat": 4,
 "nbformat_minor": 4
}
